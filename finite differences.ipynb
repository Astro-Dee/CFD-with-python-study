{
 "cells": [
  {
   "cell_type": "code",
   "execution_count": 2,
   "id": "97c6e2c9",
   "metadata": {},
   "outputs": [],
   "source": [
    "# importing numpy\n",
    "import numpy as np"
   ]
  },
  {
   "cell_type": "code",
   "execution_count": 18,
   "id": "fc839729",
   "metadata": {},
   "outputs": [],
   "source": [
    "#defining the function\n",
    "p = np.poly1d([7.0, 3.0, 5.0, 6.0])\n",
    "x0 = 0.0;\n",
    "h = 0.1;"
   ]
  },
  {
   "cell_type": "code",
   "execution_count": 19,
   "id": "914576c3",
   "metadata": {},
   "outputs": [
    {
     "name": "stdout",
     "output_type": "stream",
     "text": [
      "    2\n",
      "21 x + 6 x + 5\n",
      " \n",
      "42 x + 6\n"
     ]
    }
   ],
   "source": [
    "#theoretical differentials at x0\n",
    "der1_p = np.polyder(p);\n",
    "der2_p = np.polyder(der1_p);\n",
    "print(der1_p)\n",
    "print(der2_p)"
   ]
  },
  {
   "cell_type": "code",
   "execution_count": 20,
   "id": "d927742c",
   "metadata": {},
   "outputs": [
    {
     "name": "stdout",
     "output_type": "stream",
     "text": [
      "5.0\n",
      "6.0\n"
     ]
    }
   ],
   "source": [
    "#evaluate differentials at x = 0\n",
    "der1_p_eval = der1_p(x0)\n",
    "der2_p_eval = der2_p(x0)\n",
    "print(der1_p_eval)\n",
    "print(der2_p_eval)"
   ]
  },
  {
   "cell_type": "code",
   "execution_count": 13,
   "id": "dc7969d5",
   "metadata": {},
   "outputs": [
    {
     "name": "stdout",
     "output_type": "stream",
     "text": [
      "5.369999999999999\n"
     ]
    }
   ],
   "source": [
    "#forward difference method (FDM) FOR FIRST ORDER DERIVATION\n",
    "FDM_1_p = (p(x0 + h) - p(x0))/h\n",
    "print(FDM_1_p)"
   ]
  },
  {
   "cell_type": "code",
   "execution_count": 14,
   "id": "30ae978d",
   "metadata": {},
   "outputs": [
    {
     "name": "stdout",
     "output_type": "stream",
     "text": [
      "4.770000000000003\n"
     ]
    }
   ],
   "source": [
    "#backward difference method (BDM) FOR FIRST ORDER DERIVATION\n",
    "BDM_1_p = (p(x0) - p(x0 - h))/h\n",
    "print(BDM_1_p)"
   ]
  },
  {
   "cell_type": "code",
   "execution_count": 16,
   "id": "226fd3c5",
   "metadata": {},
   "outputs": [
    {
     "name": "stdout",
     "output_type": "stream",
     "text": [
      "5.070000000000001\n"
     ]
    }
   ],
   "source": [
    "#central difference method (CDM) FOR FIRST ORDER DERIVATION\n",
    "CDM_1_p = (p(x0 + h) - p(x0 - h))/(2*h)\n",
    "print(CDM_1_p)"
   ]
  },
  {
   "cell_type": "code",
   "execution_count": 23,
   "id": "6bd511ef",
   "metadata": {},
   "outputs": [
    {
     "name": "stdout",
     "output_type": "stream",
     "text": [
      "5.99999999999996\n"
     ]
    }
   ],
   "source": [
    "#central difference method (CDM) FOR SECOND ORDER DERIVATION\n",
    "CDM_2_p = (p(x0 + h) - (2 *p(x0)) + p(x0 - h))/(h**2)\n",
    "print(CDM_2_p)"
   ]
  },
  {
   "cell_type": "code",
   "execution_count": null,
   "id": "0019a8f3",
   "metadata": {},
   "outputs": [],
   "source": []
  }
 ],
 "metadata": {
  "kernelspec": {
   "display_name": "Python 3 (ipykernel)",
   "language": "python",
   "name": "python3"
  },
  "language_info": {
   "codemirror_mode": {
    "name": "ipython",
    "version": 3
   },
   "file_extension": ".py",
   "mimetype": "text/x-python",
   "name": "python",
   "nbconvert_exporter": "python",
   "pygments_lexer": "ipython3",
   "version": "3.9.13"
  }
 },
 "nbformat": 4,
 "nbformat_minor": 5
}
